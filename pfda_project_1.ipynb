{
 "cells": [
  {
   "cell_type": "markdown",
   "metadata": {},
   "source": [
    "Specifically, in this project you should:\n",
    "• Choose a real-world phenomenon that can be measured and for which you could\n",
    "collect at least one-hundred data points across at least four different variables.\n",
    "• Investigate the types of variables involved, their likely distributions, and their\n",
    "relationships with each other.\n",
    "• Synthesise/simulate a data set as closely matching their properties as possible.\n",
    "• Detail your research and implement the simulation in a Jupyter notebook – the\n",
    "data set itself can simply be displayed in an output cell within the notebook."
   ]
  },
  {
   "cell_type": "code",
   "execution_count": 11,
   "metadata": {},
   "outputs": [],
   "source": [
    "import pandas as pd\n",
    "import numpy as np\n",
    "import numpy.random as npr"
   ]
  },
  {
   "cell_type": "code",
   "execution_count": 46,
   "metadata": {},
   "outputs": [],
   "source": [
    "idx=pd.date_range(\"1920\", periods=100, freq=\"Y\")"
   ]
  },
  {
   "cell_type": "code",
   "execution_count": null,
   "metadata": {},
   "outputs": [],
   "source": [
    "idx"
   ]
  },
  {
   "cell_type": "code",
   "execution_count": 14,
   "metadata": {},
   "outputs": [],
   "source": [
    "rng=np.random.default_rng()"
   ]
  },
  {
   "cell_type": "code",
   "execution_count": 57,
   "metadata": {},
   "outputs": [],
   "source": [
    "df = pd.DataFrame({'year': pd.date_range(\"1920\", periods=100, freq=\"Y\"),\n",
    "                    'total fertility rate': rng.random (len(idx)),\n",
    "                    'Average years of education': rng.random (len(idx)),\n",
    "                    'population': rng.random (len(idx)),\n",
    "                    'GNI per capita': rng.random (len(idx))})"
   ]
  },
  {
   "cell_type": "code",
   "execution_count": 58,
   "metadata": {},
   "outputs": [
    {
     "data": {
      "text/html": [
       "<div>\n",
       "<style scoped>\n",
       "    .dataframe tbody tr th:only-of-type {\n",
       "        vertical-align: middle;\n",
       "    }\n",
       "\n",
       "    .dataframe tbody tr th {\n",
       "        vertical-align: top;\n",
       "    }\n",
       "\n",
       "    .dataframe thead th {\n",
       "        text-align: right;\n",
       "    }\n",
       "</style>\n",
       "<table border=\"1\" class=\"dataframe\">\n",
       "  <thead>\n",
       "    <tr style=\"text-align: right;\">\n",
       "      <th></th>\n",
       "      <th>year</th>\n",
       "      <th>total fertility rate</th>\n",
       "      <th>Average years of education</th>\n",
       "      <th>population</th>\n",
       "      <th>GNI per capita</th>\n",
       "    </tr>\n",
       "  </thead>\n",
       "  <tbody>\n",
       "    <tr>\n",
       "      <th>0</th>\n",
       "      <td>1920-12-31</td>\n",
       "      <td>0.144716</td>\n",
       "      <td>0.898993</td>\n",
       "      <td>0.748860</td>\n",
       "      <td>0.559983</td>\n",
       "    </tr>\n",
       "    <tr>\n",
       "      <th>1</th>\n",
       "      <td>1921-12-31</td>\n",
       "      <td>0.979344</td>\n",
       "      <td>0.347786</td>\n",
       "      <td>0.055898</td>\n",
       "      <td>0.682220</td>\n",
       "    </tr>\n",
       "    <tr>\n",
       "      <th>2</th>\n",
       "      <td>1922-12-31</td>\n",
       "      <td>0.803784</td>\n",
       "      <td>0.562264</td>\n",
       "      <td>0.649410</td>\n",
       "      <td>0.383523</td>\n",
       "    </tr>\n",
       "    <tr>\n",
       "      <th>3</th>\n",
       "      <td>1923-12-31</td>\n",
       "      <td>0.163617</td>\n",
       "      <td>0.918979</td>\n",
       "      <td>0.241948</td>\n",
       "      <td>0.129603</td>\n",
       "    </tr>\n",
       "    <tr>\n",
       "      <th>4</th>\n",
       "      <td>1924-12-31</td>\n",
       "      <td>0.821278</td>\n",
       "      <td>0.534045</td>\n",
       "      <td>0.103278</td>\n",
       "      <td>0.218833</td>\n",
       "    </tr>\n",
       "    <tr>\n",
       "      <th>...</th>\n",
       "      <td>...</td>\n",
       "      <td>...</td>\n",
       "      <td>...</td>\n",
       "      <td>...</td>\n",
       "      <td>...</td>\n",
       "    </tr>\n",
       "    <tr>\n",
       "      <th>95</th>\n",
       "      <td>2015-12-31</td>\n",
       "      <td>0.110339</td>\n",
       "      <td>0.572834</td>\n",
       "      <td>0.903975</td>\n",
       "      <td>0.704821</td>\n",
       "    </tr>\n",
       "    <tr>\n",
       "      <th>96</th>\n",
       "      <td>2016-12-31</td>\n",
       "      <td>0.047533</td>\n",
       "      <td>0.741184</td>\n",
       "      <td>0.185572</td>\n",
       "      <td>0.321556</td>\n",
       "    </tr>\n",
       "    <tr>\n",
       "      <th>97</th>\n",
       "      <td>2017-12-31</td>\n",
       "      <td>0.083185</td>\n",
       "      <td>0.102699</td>\n",
       "      <td>0.586123</td>\n",
       "      <td>0.855849</td>\n",
       "    </tr>\n",
       "    <tr>\n",
       "      <th>98</th>\n",
       "      <td>2018-12-31</td>\n",
       "      <td>0.953226</td>\n",
       "      <td>0.697633</td>\n",
       "      <td>0.742799</td>\n",
       "      <td>0.578726</td>\n",
       "    </tr>\n",
       "    <tr>\n",
       "      <th>99</th>\n",
       "      <td>2019-12-31</td>\n",
       "      <td>0.171882</td>\n",
       "      <td>0.669547</td>\n",
       "      <td>0.343422</td>\n",
       "      <td>0.916136</td>\n",
       "    </tr>\n",
       "  </tbody>\n",
       "</table>\n",
       "<p>100 rows × 5 columns</p>\n",
       "</div>"
      ],
      "text/plain": [
       "         year  total fertility rate  Average years of education  population  \\\n",
       "0  1920-12-31              0.144716                    0.898993    0.748860   \n",
       "1  1921-12-31              0.979344                    0.347786    0.055898   \n",
       "2  1922-12-31              0.803784                    0.562264    0.649410   \n",
       "3  1923-12-31              0.163617                    0.918979    0.241948   \n",
       "4  1924-12-31              0.821278                    0.534045    0.103278   \n",
       "..        ...                   ...                         ...         ...   \n",
       "95 2015-12-31              0.110339                    0.572834    0.903975   \n",
       "96 2016-12-31              0.047533                    0.741184    0.185572   \n",
       "97 2017-12-31              0.083185                    0.102699    0.586123   \n",
       "98 2018-12-31              0.953226                    0.697633    0.742799   \n",
       "99 2019-12-31              0.171882                    0.669547    0.343422   \n",
       "\n",
       "    GNI per capita  \n",
       "0         0.559983  \n",
       "1         0.682220  \n",
       "2         0.383523  \n",
       "3         0.129603  \n",
       "4         0.218833  \n",
       "..             ...  \n",
       "95        0.704821  \n",
       "96        0.321556  \n",
       "97        0.855849  \n",
       "98        0.578726  \n",
       "99        0.916136  \n",
       "\n",
       "[100 rows x 5 columns]"
      ]
     },
     "execution_count": 58,
     "metadata": {},
     "output_type": "execute_result"
    }
   ],
   "source": [
    "df"
   ]
  },
  {
   "cell_type": "code",
   "execution_count": 37,
   "metadata": {},
   "outputs": [],
   "source": [
    "ts=pd.DataFrame( data=rng.random (len(idx)), index=idx, \n",
    "                columns=[\"total fertility rate\"])\n",
    "                "
   ]
  },
  {
   "cell_type": "code",
   "execution_count": null,
   "metadata": {},
   "outputs": [],
   "source": [
    "ts"
   ]
  },
  {
   "cell_type": "markdown",
   "metadata": {},
   "source": [
    "https://ourworldindata.org/grapher/fertility-rate-vs-mean-years-of-schooling?tab=table&time=1870..2020\n",
    "time 1920-2020\n",
    "country/ area: Ireland, Nepal, Canada, World\n",
    "Total fertility rate (children per woman)-The total fertility rate is the number of children that would be born to a woman if she were to live to the end of her child-bearing years and give birth to children at the current age-specific fertility rates.\n",
    "Average years of education for 15-64 year olds (years), \n",
    "Population (historical estimates)\n",
    "https://www.macrotrends.net/countries/IRL/ireland/gni-per-capita\n",
    "GNI per capita"
   ]
  }
 ],
 "metadata": {
  "kernelspec": {
   "display_name": "base",
   "language": "python",
   "name": "python3"
  },
  "language_info": {
   "codemirror_mode": {
    "name": "ipython",
    "version": 3
   },
   "file_extension": ".py",
   "mimetype": "text/x-python",
   "name": "python",
   "nbconvert_exporter": "python",
   "pygments_lexer": "ipython3",
   "version": "3.9.13"
  }
 },
 "nbformat": 4,
 "nbformat_minor": 2
}
