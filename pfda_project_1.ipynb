{
 "cells": [
  {
   "cell_type": "markdown",
   "metadata": {},
   "source": [
    "Specifically, in this project you should:\n",
    "• Choose a real-world phenomenon that can be measured and for which you could\n",
    "collect at least one-hundred data points across at least four different variables.\n",
    "• Investigate the types of variables involved, their likely distributions, and their\n",
    "relationships with each other.\n",
    "• Synthesise/simulate a data set as closely matching their properties as possible.\n",
    "• Detail your research and implement the simulation in a Jupyter notebook – the\n",
    "data set itself can simply be displayed in an output cell within the notebook."
   ]
  },
  {
   "cell_type": "code",
   "execution_count": 88,
   "metadata": {},
   "outputs": [],
   "source": [
    "import pandas as pd\n",
    "import numpy as np\n",
    "import numpy.random as npr"
   ]
  },
  {
   "cell_type": "code",
   "execution_count": 183,
   "metadata": {},
   "outputs": [],
   "source": [
    "idx=pd.date_range(\"1920\", periods=101, freq=\"Y\")"
   ]
  },
  {
   "cell_type": "code",
   "execution_count": 184,
   "metadata": {},
   "outputs": [
    {
     "data": {
      "text/plain": [
       "DatetimeIndex(['1920-12-31', '1921-12-31', '1922-12-31', '1923-12-31',\n",
       "               '1924-12-31', '1925-12-31', '1926-12-31', '1927-12-31',\n",
       "               '1928-12-31', '1929-12-31',\n",
       "               ...\n",
       "               '2011-12-31', '2012-12-31', '2013-12-31', '2014-12-31',\n",
       "               '2015-12-31', '2016-12-31', '2017-12-31', '2018-12-31',\n",
       "               '2019-12-31', '2020-12-31'],\n",
       "              dtype='datetime64[ns]', length=101, freq='A-DEC')"
      ]
     },
     "execution_count": 184,
     "metadata": {},
     "output_type": "execute_result"
    }
   ],
   "source": [
    "idx"
   ]
  },
  {
   "cell_type": "code",
   "execution_count": 185,
   "metadata": {},
   "outputs": [],
   "source": [
    "rng=np.random.default_rng()"
   ]
  },
  {
   "cell_type": "code",
   "execution_count": 236,
   "metadata": {},
   "outputs": [],
   "source": [
    "df = pd.DataFrame({'year': (idx),\n",
    "                    'total fertility rate': rng.random (len(idx)),\n",
    "                    'Average years of education': np.linspace (2.9, 13.07, len(idx)),\n",
    "                    'population': rng.random (len(idx)),\n",
    "                    'GNI per capita': np.concatenate((np.linspace(0,0,52),np.linspace(100,500,49)))})"
   ]
  },
  {
   "cell_type": "code",
   "execution_count": 237,
   "metadata": {},
   "outputs": [
    {
     "data": {
      "text/html": [
       "<div>\n",
       "<style scoped>\n",
       "    .dataframe tbody tr th:only-of-type {\n",
       "        vertical-align: middle;\n",
       "    }\n",
       "\n",
       "    .dataframe tbody tr th {\n",
       "        vertical-align: top;\n",
       "    }\n",
       "\n",
       "    .dataframe thead th {\n",
       "        text-align: right;\n",
       "    }\n",
       "</style>\n",
       "<table border=\"1\" class=\"dataframe\">\n",
       "  <thead>\n",
       "    <tr style=\"text-align: right;\">\n",
       "      <th></th>\n",
       "      <th>year</th>\n",
       "      <th>total fertility rate</th>\n",
       "      <th>Average years of education</th>\n",
       "      <th>population</th>\n",
       "      <th>GNI per capita</th>\n",
       "    </tr>\n",
       "  </thead>\n",
       "  <tbody>\n",
       "    <tr>\n",
       "      <th>50</th>\n",
       "      <td>1970-12-31</td>\n",
       "      <td>0.627731</td>\n",
       "      <td>7.9850</td>\n",
       "      <td>0.198795</td>\n",
       "      <td>0.000000</td>\n",
       "    </tr>\n",
       "    <tr>\n",
       "      <th>51</th>\n",
       "      <td>1971-12-31</td>\n",
       "      <td>0.527200</td>\n",
       "      <td>8.0867</td>\n",
       "      <td>0.557374</td>\n",
       "      <td>0.000000</td>\n",
       "    </tr>\n",
       "    <tr>\n",
       "      <th>52</th>\n",
       "      <td>1972-12-31</td>\n",
       "      <td>0.428267</td>\n",
       "      <td>8.1884</td>\n",
       "      <td>0.315472</td>\n",
       "      <td>100.000000</td>\n",
       "    </tr>\n",
       "    <tr>\n",
       "      <th>53</th>\n",
       "      <td>1973-12-31</td>\n",
       "      <td>0.190009</td>\n",
       "      <td>8.2901</td>\n",
       "      <td>0.359241</td>\n",
       "      <td>108.333333</td>\n",
       "    </tr>\n",
       "    <tr>\n",
       "      <th>54</th>\n",
       "      <td>1974-12-31</td>\n",
       "      <td>0.789367</td>\n",
       "      <td>8.3918</td>\n",
       "      <td>0.335836</td>\n",
       "      <td>116.666667</td>\n",
       "    </tr>\n",
       "    <tr>\n",
       "      <th>55</th>\n",
       "      <td>1975-12-31</td>\n",
       "      <td>0.737173</td>\n",
       "      <td>8.4935</td>\n",
       "      <td>0.257416</td>\n",
       "      <td>125.000000</td>\n",
       "    </tr>\n",
       "  </tbody>\n",
       "</table>\n",
       "</div>"
      ],
      "text/plain": [
       "         year  total fertility rate  Average years of education  population  \\\n",
       "50 1970-12-31              0.627731                      7.9850    0.198795   \n",
       "51 1971-12-31              0.527200                      8.0867    0.557374   \n",
       "52 1972-12-31              0.428267                      8.1884    0.315472   \n",
       "53 1973-12-31              0.190009                      8.2901    0.359241   \n",
       "54 1974-12-31              0.789367                      8.3918    0.335836   \n",
       "55 1975-12-31              0.737173                      8.4935    0.257416   \n",
       "\n",
       "    GNI per capita  \n",
       "50        0.000000  \n",
       "51        0.000000  \n",
       "52      100.000000  \n",
       "53      108.333333  \n",
       "54      116.666667  \n",
       "55      125.000000  "
      ]
     },
     "execution_count": 237,
     "metadata": {},
     "output_type": "execute_result"
    }
   ],
   "source": [
    "df.loc[50:55]"
   ]
  },
  {
   "cell_type": "code",
   "execution_count": 217,
   "metadata": {},
   "outputs": [
    {
     "name": "stdout",
     "output_type": "stream",
     "text": [
      "          year  total fertility rate  Average years of education  population  \\\n",
      "0   1920-12-31              0.382467                      2.9000    0.778374   \n",
      "1   1921-12-31              0.196567                      3.0017    0.648630   \n",
      "2   1922-12-31              0.955506                      3.1034    0.570834   \n",
      "3   1923-12-31              0.221655                      3.2051    0.240549   \n",
      "4   1924-12-31              0.794542                      3.3068    0.430157   \n",
      "..         ...                   ...                         ...         ...   \n",
      "96  2016-12-31              0.416712                     12.6632    0.710145   \n",
      "97  2017-12-31              0.426027                     12.7649    0.836214   \n",
      "98  2018-12-31              0.164933                     12.8666    0.754030   \n",
      "99  2019-12-31              0.498603                     12.9683    0.984784   \n",
      "100 2020-12-31              0.996032                     13.0700    0.222900   \n",
      "\n",
      "     GNI per capita  \n",
      "0          0.000000  \n",
      "1          0.000000  \n",
      "2          0.000000  \n",
      "3          0.000000  \n",
      "4          0.000000  \n",
      "..              ...  \n",
      "96       465.957447  \n",
      "97       474.468085  \n",
      "98       482.978723  \n",
      "99       491.489362  \n",
      "100      500.000000  \n",
      "\n",
      "[101 rows x 5 columns]\n"
     ]
    }
   ],
   "source": [
    "df.loc[0:53,'GNI per capita']=np.linspace(0,0,54)\n",
    "df.loc[53:101,'GNI per capita']=np.linspace(100,500,48)\n",
    "\n",
    "print(df)"
   ]
  },
  {
   "cell_type": "markdown",
   "metadata": {},
   "source": [
    "https://ourworldindata.org/grapher/fertility-rate-vs-mean-years-of-schooling?tab=table&time=1870..2020\n",
    "time 1920-2020\n",
    "country/ area: Ireland\n",
    "Total fertility rate (children per woman)-The total fertility rate is the number of children that would be born to a woman if she were to live to the end of her child-bearing years and give birth to children at the current age-specific fertility rates.\n",
    "Average years of education for 15-64 year olds (years), \n",
    "Population (historical estimates)\n",
    "https://www.macrotrends.net/countries/IRL/ireland/gni-per-capita\n",
    "GNI per capitaGNI per capita (formerly GNP per capita) is the gross national income, converted to U.S. dollars using the World Bank Atlas method, divided by the midyear population. "
   ]
  },
  {
   "cell_type": "markdown",
   "metadata": {},
   "source": [
    "We will be looking at data for Ireland between 1920 and 2020, too find any patterns and correlations between womens education, fertility rate, size and wealth of the population.\n",
    "\n",
    "fertility in 1920 3.20 in 2020 1.97\n",
    "from 1920 to 1940 declining to 2.56\n",
    "growth till 1965 3.95\n",
    "decline till 1995 1.9 \n",
    "and no big change till 2020 1.97\n",
    "\n",
    "education  2.9  13.7  was groing more o less linear so we can use linear function to simulate data\n",
    "population 1920 4 192 107 \n",
    "1925 3.520 184\n",
    " 1930 2.952 393\n",
    "  1935 2,894 554 \n",
    "  1940 2,908,297\n",
    "  1945 2,912,306\n",
    "  1950 2,906,608\n",
    "  1955 2,886,375\n",
    "  1960 2,811,075\n",
    "  1965 2,852,404\n",
    "  1970 2,937,647\n",
    "  1975 3,157,921\n",
    "  1980 3,391,393\n",
    "  1985 3,505,781\n",
    "  1990 4,192,107\n",
    "  1995 3,579,486\n",
    "  2000 3,768,954\n",
    "  2005 4,121,220\n",
    "  2010 4,524,581\t\n",
    "  2015 4,665,764\t\n",
    "2020 4 946 123\n",
    "\n",
    "GNI per capita 1972 2070     2020 65 330 we don't have data prior 1972 we have to leave it blank and we can see slow growth from 1972 to 2002 24.920 then rapid to 2008 50. 940 littl drop to 2012 40.840 and steady grouwth till 2020 65 330 to simulate it we will have to create 5 sets of data\n",
    "Total fertility rate (children per woman)-The total fertility rate is the number of children that would be born to a woman if she were to live to the end of her child-bearing years and give birth to children at the current age-specific fertility rates.\n"
   ]
  }
 ],
 "metadata": {
  "kernelspec": {
   "display_name": "base",
   "language": "python",
   "name": "python3"
  },
  "language_info": {
   "codemirror_mode": {
    "name": "ipython",
    "version": 3
   },
   "file_extension": ".py",
   "mimetype": "text/x-python",
   "name": "python",
   "nbconvert_exporter": "python",
   "pygments_lexer": "ipython3",
   "version": "3.9.13"
  }
 },
 "nbformat": 4,
 "nbformat_minor": 2
}
