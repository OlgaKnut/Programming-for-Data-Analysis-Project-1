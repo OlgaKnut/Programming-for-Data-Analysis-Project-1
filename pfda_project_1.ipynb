{
 "cells": [
  {
   "cell_type": "markdown",
   "metadata": {},
   "source": [
    "Specifically, in this project you should:\n",
    "• Choose a real-world phenomenon that can be measured and for which you could\n",
    "collect at least one-hundred data points across at least four different variables.\n",
    "• Investigate the types of variables involved, their likely distributions, and their\n",
    "relationships with each other.\n",
    "• Synthesise/simulate a data set as closely matching their properties as possible.\n",
    "• Detail your research and implement the simulation in a Jupyter notebook – the\n",
    "data set itself can simply be displayed in an output cell within the notebook."
   ]
  },
  {
   "cell_type": "code",
   "execution_count": null,
   "metadata": {},
   "outputs": [],
   "source": [
    "import pandas as pd\n",
    "import numpy.random as npr"
   ]
  },
  {
   "cell_type": "markdown",
   "metadata": {},
   "source": [
    "https://ourworldindata.org/grapher/fertility-rate-vs-mean-years-of-schooling?tab=table&time=1870..2020\n",
    "time 1920-2020\n",
    "country/ area: Ireland, Nepal, Canada, World\n",
    "Total fertility rate (children per woman)-The total fertility rate is the number of children that would be born to a woman if she were to live to the end of her child-bearing years and give birth to children at the current age-specific fertility rates.\n",
    "Average years of education for 15-64 year olds (years), \n",
    "Population (historical estimates)\n",
    "https://www.macrotrends.net/countries/IRL/ireland/gni-per-capita\n",
    "GNI per capita"
   ]
  }
 ],
 "metadata": {
  "language_info": {
   "name": "python"
  }
 },
 "nbformat": 4,
 "nbformat_minor": 2
}
